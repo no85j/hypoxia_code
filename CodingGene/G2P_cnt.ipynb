{
 "cells": [
  {
   "cell_type": "code",
   "execution_count": 1,
   "metadata": {},
   "outputs": [],
   "source": [
    "import pandas as pd\n",
    "import os\n",
    "import time\n",
    "from tqdm.notebook import tqdm"
   ]
  },
  {
   "cell_type": "code",
   "execution_count": 2,
   "metadata": {},
   "outputs": [],
   "source": [
    "df = pd.read_csv('gene2pubmed.gz', sep='\\t') #20200103 downloaded"
   ]
  },
  {
   "cell_type": "code",
   "execution_count": 3,
   "metadata": {},
   "outputs": [
    {
     "name": "stdout",
     "output_type": "stream",
     "text": [
      "13035707\n"
     ]
    },
    {
     "data": {
      "text/html": [
       "<div>\n",
       "<style scoped>\n",
       "    .dataframe tbody tr th:only-of-type {\n",
       "        vertical-align: middle;\n",
       "    }\n",
       "\n",
       "    .dataframe tbody tr th {\n",
       "        vertical-align: top;\n",
       "    }\n",
       "\n",
       "    .dataframe thead th {\n",
       "        text-align: right;\n",
       "    }\n",
       "</style>\n",
       "<table border=\"1\" class=\"dataframe\">\n",
       "  <thead>\n",
       "    <tr style=\"text-align: right;\">\n",
       "      <th></th>\n",
       "      <th>#tax_id</th>\n",
       "      <th>GeneID</th>\n",
       "      <th>PubMed_ID</th>\n",
       "    </tr>\n",
       "  </thead>\n",
       "  <tbody>\n",
       "    <tr>\n",
       "      <th>0</th>\n",
       "      <td>33</td>\n",
       "      <td>5961931</td>\n",
       "      <td>18245244</td>\n",
       "    </tr>\n",
       "    <tr>\n",
       "      <th>1</th>\n",
       "      <td>33</td>\n",
       "      <td>5961932</td>\n",
       "      <td>18245244</td>\n",
       "    </tr>\n",
       "    <tr>\n",
       "      <th>2</th>\n",
       "      <td>33</td>\n",
       "      <td>5961933</td>\n",
       "      <td>18245244</td>\n",
       "    </tr>\n",
       "    <tr>\n",
       "      <th>3</th>\n",
       "      <td>33</td>\n",
       "      <td>5961934</td>\n",
       "      <td>18245244</td>\n",
       "    </tr>\n",
       "    <tr>\n",
       "      <th>4</th>\n",
       "      <td>33</td>\n",
       "      <td>5961935</td>\n",
       "      <td>18245244</td>\n",
       "    </tr>\n",
       "  </tbody>\n",
       "</table>\n",
       "</div>"
      ],
      "text/plain": [
       "   #tax_id   GeneID  PubMed_ID\n",
       "0       33  5961931   18245244\n",
       "1       33  5961932   18245244\n",
       "2       33  5961933   18245244\n",
       "3       33  5961934   18245244\n",
       "4       33  5961935   18245244"
      ]
     },
     "execution_count": 3,
     "metadata": {},
     "output_type": "execute_result"
    }
   ],
   "source": [
    "print(len(df))\n",
    "df.head()"
   ]
  },
  {
   "cell_type": "code",
   "execution_count": 4,
   "metadata": {},
   "outputs": [
    {
     "name": "stdout",
     "output_type": "stream",
     "text": [
      "1567493\n"
     ]
    },
    {
     "data": {
      "text/html": [
       "<div>\n",
       "<style scoped>\n",
       "    .dataframe tbody tr th:only-of-type {\n",
       "        vertical-align: middle;\n",
       "    }\n",
       "\n",
       "    .dataframe tbody tr th {\n",
       "        vertical-align: top;\n",
       "    }\n",
       "\n",
       "    .dataframe thead th {\n",
       "        text-align: right;\n",
       "    }\n",
       "</style>\n",
       "<table border=\"1\" class=\"dataframe\">\n",
       "  <thead>\n",
       "    <tr style=\"text-align: right;\">\n",
       "      <th></th>\n",
       "      <th>#tax_id</th>\n",
       "      <th>GeneID</th>\n",
       "      <th>PubMed_ID</th>\n",
       "    </tr>\n",
       "  </thead>\n",
       "  <tbody>\n",
       "    <tr>\n",
       "      <th>2970546</th>\n",
       "      <td>9606</td>\n",
       "      <td>1</td>\n",
       "      <td>2591067</td>\n",
       "    </tr>\n",
       "    <tr>\n",
       "      <th>2970547</th>\n",
       "      <td>9606</td>\n",
       "      <td>1</td>\n",
       "      <td>3458201</td>\n",
       "    </tr>\n",
       "    <tr>\n",
       "      <th>2970548</th>\n",
       "      <td>9606</td>\n",
       "      <td>1</td>\n",
       "      <td>3610142</td>\n",
       "    </tr>\n",
       "    <tr>\n",
       "      <th>2970549</th>\n",
       "      <td>9606</td>\n",
       "      <td>1</td>\n",
       "      <td>8889549</td>\n",
       "    </tr>\n",
       "    <tr>\n",
       "      <th>2970550</th>\n",
       "      <td>9606</td>\n",
       "      <td>1</td>\n",
       "      <td>12477932</td>\n",
       "    </tr>\n",
       "  </tbody>\n",
       "</table>\n",
       "</div>"
      ],
      "text/plain": [
       "         #tax_id  GeneID  PubMed_ID\n",
       "2970546     9606       1    2591067\n",
       "2970547     9606       1    3458201\n",
       "2970548     9606       1    3610142\n",
       "2970549     9606       1    8889549\n",
       "2970550     9606       1   12477932"
      ]
     },
     "execution_count": 4,
     "metadata": {},
     "output_type": "execute_result"
    }
   ],
   "source": [
    "df_hs =df.loc[df['#tax_id']==9606,] \n",
    "print(len(df_hs))\n",
    "df_hs.head()"
   ]
  },
  {
   "cell_type": "code",
   "execution_count": 5,
   "metadata": {
    "scrolled": true
   },
   "outputs": [
    {
     "name": "stdout",
     "output_type": "stream",
     "text": [
      "38738\n",
      "1567493\n"
     ]
    },
    {
     "data": {
      "text/plain": [
       "[1, 2, 3, 9, 10]"
      ]
     },
     "execution_count": 5,
     "metadata": {},
     "output_type": "execute_result"
    }
   ],
   "source": [
    "gene_l = df_hs.GeneID.unique().tolist()\n",
    "print(len(gene_l))\n",
    "print(len(df_hs))\n",
    "gene_l[:5]"
   ]
  },
  {
   "cell_type": "code",
   "execution_count": 6,
   "metadata": {},
   "outputs": [
    {
     "data": {
      "application/vnd.jupyter.widget-view+json": {
       "model_id": "3715a85e8f734d5b888229b405902b9f",
       "version_major": 2,
       "version_minor": 0
      },
      "text/plain": [
       "  0%|          | 0/38738 [00:00<?, ?it/s]"
      ]
     },
     "metadata": {},
     "output_type": "display_data"
    }
   ],
   "source": [
    "# i = 1246500\n",
    "df2 = pd.DataFrame()\n",
    "df3 = pd.DataFrame()\n",
    "data = {}\n",
    "\n",
    "for i in tqdm(gene_l):\n",
    "    i_l = df_hs.loc[df.GeneID==i,].PubMed_ID.tolist()\n",
    "    data['i_l'] = i_l\n",
    "    df3['GeneID'] = [i]\n",
    "    df3['Pubmedcnt'] = [len(i_l)]\n",
    "    df2 = pd.concat([df2, df3])\n",
    "    "
   ]
  },
  {
   "cell_type": "code",
   "execution_count": 7,
   "metadata": {},
   "outputs": [
    {
     "data": {
      "text/html": [
       "<div>\n",
       "<style scoped>\n",
       "    .dataframe tbody tr th:only-of-type {\n",
       "        vertical-align: middle;\n",
       "    }\n",
       "\n",
       "    .dataframe tbody tr th {\n",
       "        vertical-align: top;\n",
       "    }\n",
       "\n",
       "    .dataframe thead th {\n",
       "        text-align: right;\n",
       "    }\n",
       "</style>\n",
       "<table border=\"1\" class=\"dataframe\">\n",
       "  <thead>\n",
       "    <tr style=\"text-align: right;\">\n",
       "      <th></th>\n",
       "      <th>GeneID</th>\n",
       "      <th>Pubmedcnt</th>\n",
       "      <th>rnk</th>\n",
       "    </tr>\n",
       "  </thead>\n",
       "  <tbody>\n",
       "    <tr>\n",
       "      <th>0</th>\n",
       "      <td>1</td>\n",
       "      <td>31</td>\n",
       "      <td>9952.0</td>\n",
       "    </tr>\n",
       "    <tr>\n",
       "      <th>0</th>\n",
       "      <td>2</td>\n",
       "      <td>272</td>\n",
       "      <td>921.0</td>\n",
       "    </tr>\n",
       "    <tr>\n",
       "      <th>0</th>\n",
       "      <td>3</td>\n",
       "      <td>6</td>\n",
       "      <td>19233.0</td>\n",
       "    </tr>\n",
       "    <tr>\n",
       "      <th>0</th>\n",
       "      <td>9</td>\n",
       "      <td>245</td>\n",
       "      <td>1059.0</td>\n",
       "    </tr>\n",
       "    <tr>\n",
       "      <th>0</th>\n",
       "      <td>10</td>\n",
       "      <td>704</td>\n",
       "      <td>228.0</td>\n",
       "    </tr>\n",
       "  </tbody>\n",
       "</table>\n",
       "</div>"
      ],
      "text/plain": [
       "   GeneID  Pubmedcnt      rnk\n",
       "0       1         31   9952.0\n",
       "0       2        272    921.0\n",
       "0       3          6  19233.0\n",
       "0       9        245   1059.0\n",
       "0      10        704    228.0"
      ]
     },
     "execution_count": 7,
     "metadata": {},
     "output_type": "execute_result"
    }
   ],
   "source": [
    "df2['rnk'] = df2['Pubmedcnt'].rank(ascending=False, method='min') \n",
    "df2.head()"
   ]
  },
  {
   "cell_type": "code",
   "execution_count": 8,
   "metadata": {},
   "outputs": [
    {
     "data": {
      "text/html": [
       "<div>\n",
       "<style scoped>\n",
       "    .dataframe tbody tr th:only-of-type {\n",
       "        vertical-align: middle;\n",
       "    }\n",
       "\n",
       "    .dataframe tbody tr th {\n",
       "        vertical-align: top;\n",
       "    }\n",
       "\n",
       "    .dataframe thead th {\n",
       "        text-align: right;\n",
       "    }\n",
       "</style>\n",
       "<table border=\"1\" class=\"dataframe\">\n",
       "  <thead>\n",
       "    <tr style=\"text-align: right;\">\n",
       "      <th></th>\n",
       "      <th>#tax_id</th>\n",
       "      <th>GeneID</th>\n",
       "      <th>Symbol</th>\n",
       "      <th>Synonyms</th>\n",
       "      <th>description</th>\n",
       "      <th>Nomenclature_status</th>\n",
       "    </tr>\n",
       "  </thead>\n",
       "  <tbody>\n",
       "    <tr>\n",
       "      <th>0</th>\n",
       "      <td>9606</td>\n",
       "      <td>1</td>\n",
       "      <td>A1BG</td>\n",
       "      <td>A1B|ABG|GAB|HYST2477</td>\n",
       "      <td>alpha-1-B glycoprotein</td>\n",
       "      <td>O</td>\n",
       "    </tr>\n",
       "    <tr>\n",
       "      <th>1</th>\n",
       "      <td>9606</td>\n",
       "      <td>2</td>\n",
       "      <td>A2M</td>\n",
       "      <td>A2MD|CPAMD5|FWP007|S863-7</td>\n",
       "      <td>alpha-2-macroglobulin</td>\n",
       "      <td>O</td>\n",
       "    </tr>\n",
       "    <tr>\n",
       "      <th>2</th>\n",
       "      <td>9606</td>\n",
       "      <td>3</td>\n",
       "      <td>A2MP1</td>\n",
       "      <td>A2MP</td>\n",
       "      <td>alpha-2-macroglobulin pseudogene 1</td>\n",
       "      <td>O</td>\n",
       "    </tr>\n",
       "    <tr>\n",
       "      <th>3</th>\n",
       "      <td>9606</td>\n",
       "      <td>9</td>\n",
       "      <td>NAT1</td>\n",
       "      <td>AAC1|MNAT|NAT-1|NATI</td>\n",
       "      <td>N-acetyltransferase 1</td>\n",
       "      <td>O</td>\n",
       "    </tr>\n",
       "    <tr>\n",
       "      <th>4</th>\n",
       "      <td>9606</td>\n",
       "      <td>10</td>\n",
       "      <td>NAT2</td>\n",
       "      <td>AAC2|NAT-2|PNAT</td>\n",
       "      <td>N-acetyltransferase 2</td>\n",
       "      <td>O</td>\n",
       "    </tr>\n",
       "  </tbody>\n",
       "</table>\n",
       "</div>"
      ],
      "text/plain": [
       "   #tax_id  GeneID Symbol                   Synonyms  \\\n",
       "0     9606       1   A1BG       A1B|ABG|GAB|HYST2477   \n",
       "1     9606       2    A2M  A2MD|CPAMD5|FWP007|S863-7   \n",
       "2     9606       3  A2MP1                       A2MP   \n",
       "3     9606       9   NAT1       AAC1|MNAT|NAT-1|NATI   \n",
       "4     9606      10   NAT2            AAC2|NAT-2|PNAT   \n",
       "\n",
       "                          description Nomenclature_status  \n",
       "0              alpha-1-B glycoprotein                   O  \n",
       "1               alpha-2-macroglobulin                   O  \n",
       "2  alpha-2-macroglobulin pseudogene 1                   O  \n",
       "3               N-acetyltransferase 1                   O  \n",
       "4               N-acetyltransferase 2                   O  "
      ]
     },
     "execution_count": 8,
     "metadata": {},
     "output_type": "execute_result"
    }
   ],
   "source": [
    "humanGeneID = pd.read_csv('HumanGene_info.gz', sep='\\t') #tax_id: 9606 in gene_info.gz\n",
    "humanGeneID.head()"
   ]
  },
  {
   "cell_type": "code",
   "execution_count": 9,
   "metadata": {},
   "outputs": [
    {
     "data": {
      "text/html": [
       "<div>\n",
       "<style scoped>\n",
       "    .dataframe tbody tr th:only-of-type {\n",
       "        vertical-align: middle;\n",
       "    }\n",
       "\n",
       "    .dataframe tbody tr th {\n",
       "        vertical-align: top;\n",
       "    }\n",
       "\n",
       "    .dataframe thead th {\n",
       "        text-align: right;\n",
       "    }\n",
       "</style>\n",
       "<table border=\"1\" class=\"dataframe\">\n",
       "  <thead>\n",
       "    <tr style=\"text-align: right;\">\n",
       "      <th></th>\n",
       "      <th>GeneID</th>\n",
       "      <th>Pubmedcnt</th>\n",
       "      <th>rnk</th>\n",
       "      <th>Symbol</th>\n",
       "      <th>description</th>\n",
       "    </tr>\n",
       "  </thead>\n",
       "  <tbody>\n",
       "    <tr>\n",
       "      <th>0</th>\n",
       "      <td>1</td>\n",
       "      <td>31</td>\n",
       "      <td>9952.0</td>\n",
       "      <td>A1BG</td>\n",
       "      <td>alpha-1-B glycoprotein</td>\n",
       "    </tr>\n",
       "    <tr>\n",
       "      <th>1</th>\n",
       "      <td>2</td>\n",
       "      <td>272</td>\n",
       "      <td>921.0</td>\n",
       "      <td>A2M</td>\n",
       "      <td>alpha-2-macroglobulin</td>\n",
       "    </tr>\n",
       "    <tr>\n",
       "      <th>2</th>\n",
       "      <td>3</td>\n",
       "      <td>6</td>\n",
       "      <td>19233.0</td>\n",
       "      <td>A2MP1</td>\n",
       "      <td>alpha-2-macroglobulin pseudogene 1</td>\n",
       "    </tr>\n",
       "    <tr>\n",
       "      <th>3</th>\n",
       "      <td>9</td>\n",
       "      <td>245</td>\n",
       "      <td>1059.0</td>\n",
       "      <td>NAT1</td>\n",
       "      <td>N-acetyltransferase 1</td>\n",
       "    </tr>\n",
       "    <tr>\n",
       "      <th>4</th>\n",
       "      <td>10</td>\n",
       "      <td>704</td>\n",
       "      <td>228.0</td>\n",
       "      <td>NAT2</td>\n",
       "      <td>N-acetyltransferase 2</td>\n",
       "    </tr>\n",
       "  </tbody>\n",
       "</table>\n",
       "</div>"
      ],
      "text/plain": [
       "   GeneID  Pubmedcnt      rnk Symbol                         description\n",
       "0       1         31   9952.0   A1BG              alpha-1-B glycoprotein\n",
       "1       2        272    921.0    A2M               alpha-2-macroglobulin\n",
       "2       3          6  19233.0  A2MP1  alpha-2-macroglobulin pseudogene 1\n",
       "3       9        245   1059.0   NAT1               N-acetyltransferase 1\n",
       "4      10        704    228.0   NAT2               N-acetyltransferase 2"
      ]
     },
     "execution_count": 9,
     "metadata": {},
     "output_type": "execute_result"
    }
   ],
   "source": [
    "pubmedcnt = pd.merge(df2, humanGeneID[['GeneID', 'Symbol', 'description']], on='GeneID').rename(columns={'jaccard': 'ARNT_jacc', 'simpson': 'ARNT_simp', 'simp_rnk':'ARNT_simprnk'})\n",
    "pubmedcnt.head()"
   ]
  },
  {
   "cell_type": "code",
   "execution_count": 10,
   "metadata": {},
   "outputs": [
    {
     "data": {
      "text/html": [
       "<div>\n",
       "<style scoped>\n",
       "    .dataframe tbody tr th:only-of-type {\n",
       "        vertical-align: middle;\n",
       "    }\n",
       "\n",
       "    .dataframe tbody tr th {\n",
       "        vertical-align: top;\n",
       "    }\n",
       "\n",
       "    .dataframe thead th {\n",
       "        text-align: right;\n",
       "    }\n",
       "</style>\n",
       "<table border=\"1\" class=\"dataframe\">\n",
       "  <thead>\n",
       "    <tr style=\"text-align: right;\">\n",
       "      <th></th>\n",
       "      <th>GeneID</th>\n",
       "      <th>Pubmedcnt</th>\n",
       "      <th>rnk</th>\n",
       "      <th>Symbol</th>\n",
       "      <th>description</th>\n",
       "    </tr>\n",
       "  </thead>\n",
       "  <tbody>\n",
       "    <tr>\n",
       "      <th>5607</th>\n",
       "      <td>7157</td>\n",
       "      <td>10084</td>\n",
       "      <td>1.0</td>\n",
       "      <td>TP53</td>\n",
       "      <td>tumor protein p53</td>\n",
       "    </tr>\n",
       "    <tr>\n",
       "      <th>5579</th>\n",
       "      <td>7124</td>\n",
       "      <td>5917</td>\n",
       "      <td>2.0</td>\n",
       "      <td>TNF</td>\n",
       "      <td>tumor necrosis factor</td>\n",
       "    </tr>\n",
       "    <tr>\n",
       "      <th>1549</th>\n",
       "      <td>1956</td>\n",
       "      <td>5806</td>\n",
       "      <td>3.0</td>\n",
       "      <td>EGFR</td>\n",
       "      <td>epidermal growth factor receptor</td>\n",
       "    </tr>\n",
       "    <tr>\n",
       "      <th>5826</th>\n",
       "      <td>7422</td>\n",
       "      <td>4706</td>\n",
       "      <td>4.0</td>\n",
       "      <td>VEGFA</td>\n",
       "      <td>vascular endothelial growth factor A</td>\n",
       "    </tr>\n",
       "    <tr>\n",
       "      <th>2777</th>\n",
       "      <td>3569</td>\n",
       "      <td>4672</td>\n",
       "      <td>5.0</td>\n",
       "      <td>IL6</td>\n",
       "      <td>interleukin 6</td>\n",
       "    </tr>\n",
       "    <tr>\n",
       "      <th>291</th>\n",
       "      <td>348</td>\n",
       "      <td>4489</td>\n",
       "      <td>6.0</td>\n",
       "      <td>APOE</td>\n",
       "      <td>apolipoprotein E</td>\n",
       "    </tr>\n",
       "    <tr>\n",
       "      <th>5500</th>\n",
       "      <td>7040</td>\n",
       "      <td>4422</td>\n",
       "      <td>7.0</td>\n",
       "      <td>TGFB1</td>\n",
       "      <td>transforming growth factor beta 1</td>\n",
       "    </tr>\n",
       "    <tr>\n",
       "      <th>3447</th>\n",
       "      <td>4524</td>\n",
       "      <td>3568</td>\n",
       "      <td>8.0</td>\n",
       "      <td>MTHFR</td>\n",
       "      <td>methylenetetrahydrofolate reductase</td>\n",
       "    </tr>\n",
       "    <tr>\n",
       "      <th>1664</th>\n",
       "      <td>2099</td>\n",
       "      <td>3291</td>\n",
       "      <td>9.0</td>\n",
       "      <td>ESR1</td>\n",
       "      <td>estrogen receptor 1</td>\n",
       "    </tr>\n",
       "    <tr>\n",
       "      <th>173</th>\n",
       "      <td>207</td>\n",
       "      <td>3279</td>\n",
       "      <td>10.0</td>\n",
       "      <td>AKT1</td>\n",
       "      <td>AKT serine/threonine kinase 1</td>\n",
       "    </tr>\n",
       "  </tbody>\n",
       "</table>\n",
       "</div>"
      ],
      "text/plain": [
       "      GeneID  Pubmedcnt   rnk Symbol                           description\n",
       "5607    7157      10084   1.0   TP53                     tumor protein p53\n",
       "5579    7124       5917   2.0    TNF                 tumor necrosis factor\n",
       "1549    1956       5806   3.0   EGFR      epidermal growth factor receptor\n",
       "5826    7422       4706   4.0  VEGFA  vascular endothelial growth factor A\n",
       "2777    3569       4672   5.0    IL6                         interleukin 6\n",
       "291      348       4489   6.0   APOE                      apolipoprotein E\n",
       "5500    7040       4422   7.0  TGFB1     transforming growth factor beta 1\n",
       "3447    4524       3568   8.0  MTHFR   methylenetetrahydrofolate reductase\n",
       "1664    2099       3291   9.0   ESR1                   estrogen receptor 1\n",
       "173      207       3279  10.0   AKT1         AKT serine/threonine kinase 1"
      ]
     },
     "execution_count": 10,
     "metadata": {},
     "output_type": "execute_result"
    }
   ],
   "source": [
    "pubmedcnt_s = pubmedcnt.sort_values('Pubmedcnt', ascending = False)\n",
    "pubmedcnt_s.head(10)"
   ]
  },
  {
   "cell_type": "code",
   "execution_count": 11,
   "metadata": {},
   "outputs": [],
   "source": [
    "pubmedcnt.to_csv(\"G2P_cnt.csv\", index=False)"
   ]
  },
  {
   "cell_type": "code",
   "execution_count": null,
   "metadata": {},
   "outputs": [],
   "source": []
  }
 ],
 "metadata": {
  "kernelspec": {
   "display_name": "Python 3",
   "language": "python",
   "name": "python3"
  },
  "language_info": {
   "codemirror_mode": {
    "name": "ipython",
    "version": 3
   },
   "file_extension": ".py",
   "mimetype": "text/x-python",
   "name": "python",
   "nbconvert_exporter": "python",
   "pygments_lexer": "ipython3",
   "version": "3.8.6"
  }
 },
 "nbformat": 4,
 "nbformat_minor": 2
}
